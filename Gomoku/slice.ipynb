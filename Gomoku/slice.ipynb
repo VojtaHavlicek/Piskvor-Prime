{
 "cells": [
  {
   "cell_type": "code",
   "execution_count": 11,
   "id": "53bf2888",
   "metadata": {},
   "outputs": [],
   "source": [
    "from PIL import Image \n",
    "import os \n",
    "\n",
    "size = 168, 168\n",
    "atlas_name = \"gomoku\"\n",
    "\n",
    "\n",
    "def slice(size, filename, folder):\n",
    "\n",
    "    # Create a folder if it doesn't exist\n",
    "    if not os.path.isdir(folder):\n",
    "        os.mkdir(folder)\n",
    "\n",
    "    # Save the slices\n",
    "    im = Image.open(filename)\n",
    "    width, height = im.size\n",
    "    for i, x in enumerate(range(0, width, size[0])):\n",
    "        for j, y in enumerate(range(0, height, size[1])):\n",
    "            \n",
    "            box = (x, y, x + size[0], y + size[1])\n",
    "            a = im.crop(box)\n",
    "\n",
    "            if set(a.getdata()) == {(0,0,0,0)}: \n",
    "                continue\n",
    "            \n",
    "            a.save(f\"{folder}/{atlas_name}_{i}_{j}.png\")\n",
    "\n",
    "\n",
    "slice(size, \"gomoku.png\", atlas_name)"
   ]
  },
  {
   "cell_type": "code",
   "execution_count": null,
   "id": "22bf484a",
   "metadata": {},
   "outputs": [],
   "source": []
  }
 ],
 "metadata": {
  "kernelspec": {
   "display_name": "base",
   "language": "python",
   "name": "python3"
  },
  "language_info": {
   "codemirror_mode": {
    "name": "ipython",
    "version": 3
   },
   "file_extension": ".py",
   "mimetype": "text/x-python",
   "name": "python",
   "nbconvert_exporter": "python",
   "pygments_lexer": "ipython3",
   "version": "3.11.6"
  }
 },
 "nbformat": 4,
 "nbformat_minor": 5
}
